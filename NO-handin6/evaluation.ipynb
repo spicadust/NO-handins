{
 "cells": [
  {
   "cell_type": "code",
   "execution_count": 1,
   "metadata": {},
   "outputs": [],
   "source": [
    "import numpy as np\n",
    "import matplotlib.pyplot as plt\n",
    "from algorithm import *"
   ]
  },
  {
   "cell_type": "markdown",
   "metadata": {},
   "source": [
    "# Implementation"
   ]
  },
  {
   "cell_type": "code",
   "execution_count": 2,
   "metadata": {},
   "outputs": [],
   "source": [
    "dimensions = [5, 20, 50, 100]\n",
    "num_points = 10\n",
    "\n",
    "# Q (positive), b, and radius (delta).\n",
    "def generate_pos_qbr(dimensions: list, num_points: int, feasible: bool = True):\n",
    "    Qbrs = []\n",
    "    for dim in dimensions:\n",
    "        for _ in range(num_points):\n",
    "            Q, b = generate_pos_Q_b(dim)\n",
    "            unconstrained_x_opt = -np.linalg.inv(Q) @ b\n",
    "            if feasible:\n",
    "                delta = np.linalg.norm(unconstrained_x_opt) + np.random.random()\n",
    "                Qbrs.append((Q, b, delta))\n",
    "            else:\n",
    "                delta = np.linalg.norm(unconstrained_x_opt) * np.random.random()\n",
    "                Qbrs.append((Q, b, delta))\n",
    "    return Qbrs\n",
    "\n",
    "# Q (negative), b, and radius (delta).\n",
    "def generate_neg_qbr(dimensions: list, num_points: int):\n",
    "    Qbrs = []\n",
    "    for dim in dimensions:\n",
    "        for _ in range(num_points):\n",
    "            Q, b = generate_neg_Q_b(dim)\n",
    "            delta = np.random.random()\n",
    "            Qbrs.append((Q, b, delta))\n",
    "    return Qbrs"
   ]
  },
  {
   "cell_type": "code",
   "execution_count": 3,
   "metadata": {},
   "outputs": [],
   "source": [
    "# the value for epsilon can affect the result of checking KKT conditions\n",
    "# because in KKT conditions, we use np.isclose to check if the value is close to 0\n",
    "# if epsilon is made larger, the parameter 'atol' in np.isclose should also be made larger to avoid false negative\n",
    "\n",
    "def generate_results (qbrs: list, epsilon: float = 1e-8):\n",
    "    qbrx = []\n",
    "    for qbr in qbrs:\n",
    "        q, b, r = qbr\n",
    "        try:\n",
    "            x_opt = min_quad(q, b, r, epsilon)\n",
    "            qbrx.append((q, b, r, x_opt))\n",
    "        except Exception as e:\n",
    "            print(e)\n",
    "    return qbrx\n",
    "\n",
    "def check_kkts (qbrx: list, atol: float = 1e-5):\n",
    "    for qbrx in qbrx:\n",
    "        q, b, r, x_opt = qbrx\n",
    "        print(\"KKT: \", check_kkt(x_opt, q, b, r, atol))"
   ]
  },
  {
   "cell_type": "markdown",
   "metadata": {},
   "source": [
    "## Case 1: Q positive, unconstrained_min feasible"
   ]
  },
  {
   "cell_type": "code",
   "execution_count": 4,
   "metadata": {},
   "outputs": [
    {
     "name": "stdout",
     "output_type": "stream",
     "text": [
      "KKT:  True\n",
      "KKT:  True\n",
      "KKT:  True\n",
      "KKT:  True\n",
      "KKT:  True\n",
      "KKT:  True\n",
      "KKT:  True\n",
      "KKT:  True\n",
      "KKT:  True\n",
      "KKT:  True\n",
      "KKT:  True\n",
      "KKT:  True\n",
      "KKT:  True\n",
      "KKT:  True\n",
      "KKT:  True\n",
      "KKT:  True\n",
      "KKT:  True\n",
      "KKT:  True\n",
      "KKT:  True\n",
      "KKT:  True\n",
      "KKT:  True\n",
      "KKT:  True\n",
      "KKT:  True\n",
      "KKT:  True\n",
      "KKT:  True\n",
      "KKT:  True\n",
      "KKT:  True\n",
      "KKT:  True\n",
      "KKT:  True\n",
      "KKT:  True\n",
      "KKT:  True\n",
      "KKT:  True\n",
      "KKT:  True\n",
      "KKT:  True\n",
      "KKT:  True\n",
      "KKT:  True\n",
      "KKT:  True\n",
      "KKT:  True\n",
      "KKT:  True\n",
      "KKT:  True\n"
     ]
    }
   ],
   "source": [
    "inputs_1 = generate_pos_qbr(dimensions, num_points, True)\n",
    "check_kkts(generate_results(inputs_1))"
   ]
  },
  {
   "cell_type": "markdown",
   "metadata": {},
   "source": [
    "## Case 2: Q positive, unconstrained_min infeasible"
   ]
  },
  {
   "cell_type": "code",
   "execution_count": 5,
   "metadata": {},
   "outputs": [
    {
     "name": "stdout",
     "output_type": "stream",
     "text": [
      "The algorithm did not converge in the bisection phase\n",
      "The algorithm did not converge in the bisection phase\n",
      "The algorithm did not converge in the bisection phase\n",
      "The algorithm did not converge in the bisection phase\n",
      "The algorithm did not converge in the bisection phase\n",
      "KKT:  True\n",
      "KKT:  True\n",
      "KKT:  True\n",
      "KKT:  True\n",
      "KKT:  True\n",
      "KKT:  True\n",
      "KKT:  True\n",
      "KKT:  True\n",
      "KKT:  True\n",
      "KKT:  True\n",
      "KKT:  True\n",
      "KKT:  True\n",
      "KKT:  True\n",
      "KKT:  True\n",
      "KKT:  True\n",
      "KKT:  True\n",
      "KKT:  True\n",
      "KKT:  True\n",
      "KKT:  True\n",
      "KKT:  True\n",
      "KKT:  True\n",
      "KKT:  True\n",
      "KKT:  True\n",
      "KKT:  True\n",
      "KKT:  True\n",
      "KKT:  True\n",
      "KKT:  True\n",
      "KKT:  True\n",
      "KKT:  True\n",
      "KKT:  True\n",
      "KKT:  True\n",
      "KKT:  True\n",
      "KKT:  True\n",
      "KKT:  True\n",
      "KKT:  True\n"
     ]
    }
   ],
   "source": [
    "inputs_2 = generate_pos_qbr(dimensions, num_points, False)\n",
    "check_kkts(generate_results(inputs_2))"
   ]
  },
  {
   "cell_type": "markdown",
   "metadata": {},
   "source": [
    "## Case 3: Q negative, no unconstrained_min"
   ]
  },
  {
   "cell_type": "code",
   "execution_count": 6,
   "metadata": {},
   "outputs": [
    {
     "name": "stdout",
     "output_type": "stream",
     "text": [
      "KKT:  True\n",
      "KKT:  True\n",
      "KKT:  True\n",
      "KKT:  True\n",
      "KKT:  True\n",
      "KKT:  True\n",
      "KKT:  True\n",
      "KKT:  True\n",
      "KKT:  True\n",
      "KKT:  True\n",
      "KKT:  True\n",
      "KKT:  True\n",
      "KKT:  True\n",
      "KKT:  True\n",
      "KKT:  True\n",
      "KKT:  True\n",
      "KKT:  True\n",
      "KKT:  True\n",
      "KKT:  True\n",
      "KKT:  True\n",
      "KKT:  True\n",
      "KKT:  True\n",
      "KKT:  True\n",
      "KKT:  True\n",
      "KKT:  True\n",
      "KKT:  True\n",
      "KKT:  True\n",
      "KKT:  True\n",
      "KKT:  True\n",
      "KKT:  True\n",
      "KKT:  True\n",
      "KKT:  True\n",
      "KKT:  True\n",
      "KKT:  True\n",
      "KKT:  True\n",
      "KKT:  True\n",
      "KKT:  True\n",
      "KKT:  True\n",
      "lambda_star * norm_constraint(x_star, Delta) = -1.1002196932298958e-05\n",
      "KKT:  None\n",
      "lambda_star * norm_constraint(x_star, Delta) = -2.3931000116327932e-05\n",
      "KKT:  None\n"
     ]
    }
   ],
   "source": [
    "inputs_3 = generate_neg_qbr(dimensions, num_points)\n",
    "check_kkts(generate_results(inputs_3))"
   ]
  },
  {
   "cell_type": "markdown",
   "metadata": {},
   "source": []
  }
 ],
 "metadata": {
  "kernelspec": {
   "display_name": "NO",
   "language": "python",
   "name": "python3"
  },
  "language_info": {
   "codemirror_mode": {
    "name": "ipython",
    "version": 3
   },
   "file_extension": ".py",
   "mimetype": "text/x-python",
   "name": "python",
   "nbconvert_exporter": "python",
   "pygments_lexer": "ipython3",
   "version": "3.11.7"
  }
 },
 "nbformat": 4,
 "nbformat_minor": 2
}
