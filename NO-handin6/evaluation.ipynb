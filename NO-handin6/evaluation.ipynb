{
 "cells": [
  {
   "cell_type": "code",
   "execution_count": 9,
   "metadata": {},
   "outputs": [],
   "source": [
    "import numpy as np\n",
    "import matplotlib.pyplot as plt\n",
    "from algorithm import *\n",
    "import time\n",
    "from tqdm import tqdm\n",
    "import seaborn as sns"
   ]
  },
  {
   "cell_type": "markdown",
   "metadata": {},
   "source": [
    "# Implementation"
   ]
  },
  {
   "cell_type": "code",
   "execution_count": 2,
   "metadata": {},
   "outputs": [],
   "source": [
    "dimensions = [5, 20, 50, 100]\n",
    "num_points = 200\n",
    "\n",
    "# Q (positive), b, and radius (delta).\n",
    "def generate_pos_qbr(dimensions: list, num_points: int, feasible: bool = True):\n",
    "    Qbrs = []\n",
    "    for dim in dimensions:\n",
    "        for _ in range(num_points):\n",
    "            Q, b = generate_pos_Q_b(dim)\n",
    "            unconstrained_x_opt = -np.linalg.inv(Q) @ b\n",
    "            if feasible:\n",
    "                delta = np.linalg.norm(unconstrained_x_opt) + np.random.random()\n",
    "                Qbrs.append((Q, b, delta))\n",
    "            else:\n",
    "                delta = np.linalg.norm(unconstrained_x_opt) * np.random.random()\n",
    "                Qbrs.append((Q, b, delta))\n",
    "    return Qbrs\n",
    "\n",
    "# Q (negative), b, and radius (delta).\n",
    "def generate_neg_qbr(dimensions: list, num_points: int):\n",
    "    Qbrs = []\n",
    "    for dim in dimensions:\n",
    "        for _ in range(num_points):\n",
    "            Q, b = generate_neg_Q_b(dim)\n",
    "            delta = np.random.random()\n",
    "            Qbrs.append((Q, b, delta))\n",
    "    return Qbrs"
   ]
  },
  {
   "cell_type": "code",
   "execution_count": 3,
   "metadata": {},
   "outputs": [],
   "source": [
    "# the value for epsilon can affect the result of checking KKT conditions\n",
    "# because in KKT conditions, we use np.isclose to check if the value is close to 0\n",
    "# if epsilon is made larger, the parameter 'atol' in np.isclose should also be made larger to avoid false negative\n",
    "\n",
    "def generate_results (qbrs: list, epsilon: float = 1e-8):\n",
    "    qbrx = []\n",
    "    for qbr in qbrs:\n",
    "        q, b, r = qbr\n",
    "        try:\n",
    "            x_opt = min_quad(q, b, r, epsilon)\n",
    "            qbrx.append((q, b, r, x_opt))\n",
    "        except Exception as e:\n",
    "            print(e)\n",
    "    return qbrx\n",
    "    \n",
    "\n",
    "def check_kkts (qbrx: list, atol: float = 1e-5):\n",
    "    for qbrx in qbrx:\n",
    "        q, b, r, x_opt = qbrx\n",
    "        print(\"KKT: \", check_kkt(x_opt, q, b, r, atol))\n",
    "\n",
    "def generate_timed_results (qbrs: list, epsilon_scale: float = 1e-8):\n",
    "    qbrx = []\n",
    "    times = []\n",
    "    for qbr in qbrs:\n",
    "        q, b, r = qbr\n",
    "        epsilon = r * epsilon_scale\n",
    "        try:\n",
    "            start_time = time.time()\n",
    "            x_opt = min_quad(q, b, r, epsilon)\n",
    "            end_time = time.time()\n",
    "            qbrx.append((q, b, r, x_opt))\n",
    "            times.append(end_time - start_time)\n",
    "        except Exception as e:\n",
    "            # print(e)\n",
    "            continue\n",
    "    return qbrx, times"
   ]
  },
  {
   "cell_type": "markdown",
   "metadata": {},
   "source": [
    "## Case 1: Q positive, unconstrained_min feasible"
   ]
  },
  {
   "cell_type": "code",
   "execution_count": 4,
   "metadata": {},
   "outputs": [],
   "source": [
    "inputs_1 = generate_pos_qbr(dimensions, num_points, True)\n",
    "# check_kkts(generate_results(inputs_1))"
   ]
  },
  {
   "cell_type": "markdown",
   "metadata": {},
   "source": [
    "## Case 2: Q positive, unconstrained_min infeasible"
   ]
  },
  {
   "cell_type": "code",
   "execution_count": 5,
   "metadata": {},
   "outputs": [],
   "source": [
    "inputs_2 = generate_pos_qbr(dimensions, num_points, False)\n",
    "# check_kkts(generate_results(inputs_2))"
   ]
  },
  {
   "cell_type": "markdown",
   "metadata": {},
   "source": [
    "## Case 3: Q negative, no unconstrained_min"
   ]
  },
  {
   "cell_type": "code",
   "execution_count": 6,
   "metadata": {},
   "outputs": [],
   "source": [
    "inputs_3 = generate_neg_qbr(dimensions, num_points)\n",
    "# check_kkts(generate_results(inputs_3))"
   ]
  },
  {
   "cell_type": "markdown",
   "metadata": {},
   "source": [
    "# Benchmark"
   ]
  },
  {
   "cell_type": "markdown",
   "metadata": {},
   "source": [
    "### Finding optimal value of epsilon"
   ]
  },
  {
   "cell_type": "code",
   "execution_count": 7,
   "metadata": {},
   "outputs": [
    {
     "name": "stderr",
     "output_type": "stream",
     "text": [
      "100%|██████████| 11/11 [02:33<00:00, 13.98s/it]\n"
     ]
    }
   ],
   "source": [
    "dimensions = [5, 20, 50, 100]\n",
    "num_points = 200\n",
    "\n",
    "epsilons = [1e-1, 1e-2, 1e-3, 1e-4, 1e-5, 1e-6, 1e-7, 1e-8, 1e-9, 1e-10, 1e-11]\n",
    "case1_times = []\n",
    "case2_times = []\n",
    "\n",
    "inputs_1 = generate_pos_qbr(dimensions, num_points, True)\n",
    "inputs_2 = generate_pos_qbr(dimensions, num_points, False)\n",
    "\n",
    "for e in tqdm(epsilons):\n",
    "    _, c1_time = generate_timed_results(inputs_1, e)\n",
    "    _, c2_time = generate_timed_results(inputs_2, e)\n",
    "    \n",
    "    case1_times.append(np.mean(c1_time))\n",
    "    case2_times.append(np.mean(c2_time))"
   ]
  },
  {
   "cell_type": "code",
   "execution_count": 14,
   "metadata": {},
   "outputs": [
    {
     "data": {
      "image/png": "[encoded data removed]",
      "text/plain": [
       "<Figure size 640x480 with 1 Axes>"
      ]
     },
     "metadata": {},
     "output_type": "display_data"
    }
   ],
   "source": [
    "sns.set_style('whitegrid')\n",
    "\n",
    "plt.plot(epsilons, case1_times, label='Case 1')\n",
    "plt.plot(epsilons, case2_times, label='Case 2')\n",
    "# plt.fill_between(epsilons, )\n",
    "\n",
    "\n",
    "plt.title('Average CPU time per convergence')\n",
    "plt.xlabel(r'Size of $\\epsilon$ in relation to $\\Delta$')\n",
    "plt.ylabel('CPU time (s)')\n",
    "plt.xscale('log')\n",
    "plt.gca().invert_xaxis()\n",
    "plt.legend()\n",
    "plt.tight_layout()\n",
    "plt.show()"
   ]
  }
 ],
 "metadata": {
  "kernelspec": {
   "display_name": "NO",
   "language": "python",
   "name": "python3"
  },
  "language_info": {
   "codemirror_mode": {
    "name": "ipython",
    "version": 3
   },
   "file_extension": ".py",
   "mimetype": "text/x-python",
   "name": "python",
   "nbconvert_exporter": "python",
   "pygments_lexer": "ipython3",
   "version": "3.11.1"
  }
 },
 "nbformat": 4,
 "nbformat_minor": 2
}
